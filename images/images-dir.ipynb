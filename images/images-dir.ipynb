{
 "cells": [
  {
   "cell_type": "code",
   "execution_count": null,
   "metadata": {},
   "outputs": [],
   "source": [
    "import pyodbc, os, urllib.request\n",
    "from PIL import Image\n",
    "from glob import glob\n",
    "from collections import defaultdict\n",
    "\n",
    "try:\n",
    "    uri = 'D:/Backup/Upload/'\n",
    "    path, dirs, files = next(os.walk(uri))\n",
    "    images = map(Image.open, glob('{}*.jpg'.format(uri)))\n",
    "    for i, image in enumerate(images):\n",
    "        colors = defaultdict(int)\n",
    "        for pixel in image.getdata():\n",
    "            colors[pixel] += 1        \n",
    "\n",
    "        if (len(colors) < 200):\n",
    "            cnxn = pyodbc.connect(\"Driver={SQL Server Native Client 11.0};Server=10.2.2.3;\"\n",
    "                                  \"Database=SAT;uid=sa;pwd=*sqlsat2009nochange*\")\n",
    "            cursor = cnxn.cursor()\n",
    "            q = \"insert into RatFotoSmartphoneInconsistente (NomeFoto) values ('{}')\".format(image.filename.replace(uri, ''))\n",
    "            cursor.execute(q)\n",
    "            cnxn.commit()\n",
    "        else:\n",
    "            print(u'Photo {}/{}: {} OK. {} colors.'.format(i, len(files), image.filename.replace(uri, ''), len(colors)))\n",
    "except Exception as ex:\n",
    "    print(ex)"
   ]
  },
  {
   "cell_type": "code",
   "execution_count": null,
   "metadata": {},
   "outputs": [],
   "source": []
  }
 ],
 "metadata": {
  "kernelspec": {
   "display_name": "Python 3",
   "language": "python",
   "name": "python3"
  }
 },
 "nbformat": 4,
 "nbformat_minor": 2
}
