{
 "cells": [
  {
   "cell_type": "code",
   "execution_count": 79,
   "metadata": {},
   "outputs": [
    {
     "name": "stdout",
     "output_type": "stream",
     "text": [
      "300 300\n"
     ]
    }
   ],
   "source": [
    "import urllib.request\n",
    "from PIL import Image\n",
    "\n",
    "#url = 'https://upload.wikimedia.org/wikipedia/commons/6/68/Solid_black.png'\n",
    "#url = 'http://www.allwhitebackground.com/images/2/2270.jpg'\n",
    "url = 'https://dummyimage.com/300.png'\n",
    "\n",
    "try:\n",
    "    image = Image.open(urllib.request.urlopen(url))\n",
    "    \n",
    "    width, height = image.size\n",
    "    print (width,height)\n",
    "except:\n",
    "    print('An error occurred')"
   ]
  },
  {
   "cell_type": "code",
   "execution_count": 80,
   "metadata": {},
   "outputs": [
    {
     "name": "stdout",
     "output_type": "stream",
     "text": [
      "MULTICOLOR (0, 204)\n"
     ]
    }
   ],
   "source": [
    "extrema = image.convert(\"L\").getextrema()\n",
    "\n",
    "if extrema == (0, 0):\n",
    "    print('BLACK', extrema)\n",
    "elif extrema == (255, 255):\n",
    "    print('WHITE', extrema)\n",
    "else:\n",
    "    print('MULTICOLOR', extrema)"
   ]
  },
  {
   "cell_type": "code",
   "execution_count": 81,
   "metadata": {},
   "outputs": [
    {
     "data": {
      "text/plain": [
       "defaultdict(int,\n",
       "            {0: 88949,\n",
       "             2: 169,\n",
       "             3: 110,\n",
       "             4: 146,\n",
       "             5: 78,\n",
       "             1: 318,\n",
       "             6: 83,\n",
       "             7: 68,\n",
       "             8: 79})"
      ]
     },
     "execution_count": 81,
     "metadata": {},
     "output_type": "execute_result"
    }
   ],
   "source": [
    "from collections import defaultdict\n",
    "\n",
    "colors = defaultdict(int)\n",
    "for pixel in image.getdata():\n",
    "    colors[pixel] += 1\n",
    "\n",
    "colors"
   ]
  },
  {
   "cell_type": "code",
   "execution_count": null,
   "metadata": {},
   "outputs": [],
   "source": []
  }
 ],
 "metadata": {
  "kernelspec": {
   "display_name": "Python 3",
   "language": "python",
   "name": "python3"
  },
  "language_info": {
   "codemirror_mode": {
    "name": "ipython",
    "version": 3
   },
   "file_extension": ".py",
   "mimetype": "text/x-python",
   "name": "python",
   "nbconvert_exporter": "python",
   "pygments_lexer": "ipython3",
   "version": "3.7.3"
  }
 },
 "nbformat": 4,
 "nbformat_minor": 2
}
