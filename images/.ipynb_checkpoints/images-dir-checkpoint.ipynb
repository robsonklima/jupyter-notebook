{
 "cells": [
  {
   "cell_type": "code",
   "execution_count": 75,
   "metadata": {},
   "outputs": [
    {
     "name": "stdout",
     "output_type": "stream",
     "text": [
      "D:/Backup/Upload/*.jpg\n",
      "Photo 0/44735: D:/Backup/Upload\\20181009105528_6161157_2322663_ETIQUETANUMSERIE.jpg OK. 12400 colors.\n",
      "Photo 1/44735: D:/Backup/Upload\\20181009105632_6161157_2322663_EQUIPAMENTOOPERACIONAL.jpg OK. 28023 colors.\n",
      "Photo 2/44735: D:/Backup/Upload\\20181009105653_6161157_2322663_PARTEINTERNA.jpg OK. 43607 colors.\n",
      "Photo 3/44735: D:/Backup/Upload\\20181009113037_6161157_2322663_RAT.jpg OK. 15658 colors.\n",
      "Photo 4/44735: D:/Backup/Upload\\20181009130401_6151836_2503301_ETIQUETANUMSERIE.jpg OK. 11012 colors.\n",
      "Photo 5/44735: D:/Backup/Upload\\20181009130645_6151836_2503301_PARTEINTERNA.jpg OK. 61408 colors.\n",
      "Photo 6/44735: D:/Backup/Upload\\20181009130909_6151836_2503301_RAT.jpg OK. 15286 colors.\n",
      "Photo 7/44735: D:/Backup/Upload\\20181009131144_6151836_2503301_EQUIPAMENTOOPERACIONAL.jpg OK. 35290 colors.\n",
      "Photo 8/44735: D:/Backup/Upload\\20181009145122_6151835_2503302_RAT.jpg OK. 14321 colors.\n",
      "Photo 9/44735: D:/Backup/Upload\\20181009145208_6151835_2503302_ETIQUETANUMSERIE.jpg OK. 20790 colors.\n",
      "Photo 10/44735: D:/Backup/Upload\\20181009145947_6161768_2322664_ETIQUETANUMSERIE.jpg OK. 15613 colors.\n",
      "Photo 11/44735: D:/Backup/Upload\\20181009150045_6161768_2322664_PARTEINTERNA.jpg OK. 13658 colors.\n",
      "Photo 12/44735: D:/Backup/Upload\\20181009150109_6161768_2322664_EQUIPAMENTOOPERACIONAL.jpg OK. 19848 colors.\n"
     ]
    },
    {
     "ename": "KeyboardInterrupt",
     "evalue": "",
     "output_type": "error",
     "traceback": [
      "\u001b[1;31m---------------------------------------------------------------------------\u001b[0m",
      "\u001b[1;31mKeyboardInterrupt\u001b[0m                         Traceback (most recent call last)",
      "\u001b[1;32m<ipython-input-75-dc20359a8fe3>\u001b[0m in \u001b[0;36m<module>\u001b[1;34m\u001b[0m\n\u001b[0;32m     13\u001b[0m     \u001b[1;32mtry\u001b[0m\u001b[1;33m:\u001b[0m\u001b[1;33m\u001b[0m\u001b[1;33m\u001b[0m\u001b[0m\n\u001b[0;32m     14\u001b[0m         \u001b[0mcolors\u001b[0m \u001b[1;33m=\u001b[0m \u001b[0mdefaultdict\u001b[0m\u001b[1;33m(\u001b[0m\u001b[0mint\u001b[0m\u001b[1;33m)\u001b[0m\u001b[1;33m\u001b[0m\u001b[1;33m\u001b[0m\u001b[0m\n\u001b[1;32m---> 15\u001b[1;33m         \u001b[1;32mfor\u001b[0m \u001b[0mpixel\u001b[0m \u001b[1;32min\u001b[0m \u001b[0mimage\u001b[0m\u001b[1;33m.\u001b[0m\u001b[0mgetdata\u001b[0m\u001b[1;33m(\u001b[0m\u001b[1;33m)\u001b[0m\u001b[1;33m:\u001b[0m\u001b[1;33m\u001b[0m\u001b[1;33m\u001b[0m\u001b[0m\n\u001b[0m\u001b[0;32m     16\u001b[0m             \u001b[0mcolors\u001b[0m\u001b[1;33m[\u001b[0m\u001b[0mpixel\u001b[0m\u001b[1;33m]\u001b[0m \u001b[1;33m+=\u001b[0m \u001b[1;36m1\u001b[0m\u001b[1;33m\u001b[0m\u001b[1;33m\u001b[0m\u001b[0m\n\u001b[0;32m     17\u001b[0m \u001b[1;33m\u001b[0m\u001b[0m\n",
      "\u001b[1;32m~\\AppData\\Local\\Continuum\\anaconda3\\envs\\sat-images\\lib\\site-packages\\PIL\\Image.py\u001b[0m in \u001b[0;36mgetdata\u001b[1;34m(self, band)\u001b[0m\n\u001b[0;32m   1275\u001b[0m         \"\"\"\n\u001b[0;32m   1276\u001b[0m \u001b[1;33m\u001b[0m\u001b[0m\n\u001b[1;32m-> 1277\u001b[1;33m         \u001b[0mself\u001b[0m\u001b[1;33m.\u001b[0m\u001b[0mload\u001b[0m\u001b[1;33m(\u001b[0m\u001b[1;33m)\u001b[0m\u001b[1;33m\u001b[0m\u001b[1;33m\u001b[0m\u001b[0m\n\u001b[0m\u001b[0;32m   1278\u001b[0m         \u001b[1;32mif\u001b[0m \u001b[0mband\u001b[0m \u001b[1;32mis\u001b[0m \u001b[1;32mnot\u001b[0m \u001b[1;32mNone\u001b[0m\u001b[1;33m:\u001b[0m\u001b[1;33m\u001b[0m\u001b[1;33m\u001b[0m\u001b[0m\n\u001b[0;32m   1279\u001b[0m             \u001b[1;32mreturn\u001b[0m \u001b[0mself\u001b[0m\u001b[1;33m.\u001b[0m\u001b[0mim\u001b[0m\u001b[1;33m.\u001b[0m\u001b[0mgetband\u001b[0m\u001b[1;33m(\u001b[0m\u001b[0mband\u001b[0m\u001b[1;33m)\u001b[0m\u001b[1;33m\u001b[0m\u001b[1;33m\u001b[0m\u001b[0m\n",
      "\u001b[1;32m~\\AppData\\Local\\Continuum\\anaconda3\\envs\\sat-images\\lib\\site-packages\\PIL\\ImageFile.py\u001b[0m in \u001b[0;36mload\u001b[1;34m(self)\u001b[0m\n\u001b[0;32m    240\u001b[0m \u001b[1;33m\u001b[0m\u001b[0m\n\u001b[0;32m    241\u001b[0m                             \u001b[0mb\u001b[0m \u001b[1;33m=\u001b[0m \u001b[0mb\u001b[0m \u001b[1;33m+\u001b[0m \u001b[0ms\u001b[0m\u001b[1;33m\u001b[0m\u001b[1;33m\u001b[0m\u001b[0m\n\u001b[1;32m--> 242\u001b[1;33m                             \u001b[0mn\u001b[0m\u001b[1;33m,\u001b[0m \u001b[0merr_code\u001b[0m \u001b[1;33m=\u001b[0m \u001b[0mdecoder\u001b[0m\u001b[1;33m.\u001b[0m\u001b[0mdecode\u001b[0m\u001b[1;33m(\u001b[0m\u001b[0mb\u001b[0m\u001b[1;33m)\u001b[0m\u001b[1;33m\u001b[0m\u001b[1;33m\u001b[0m\u001b[0m\n\u001b[0m\u001b[0;32m    243\u001b[0m                             \u001b[1;32mif\u001b[0m \u001b[0mn\u001b[0m \u001b[1;33m<\u001b[0m \u001b[1;36m0\u001b[0m\u001b[1;33m:\u001b[0m\u001b[1;33m\u001b[0m\u001b[1;33m\u001b[0m\u001b[0m\n\u001b[0;32m    244\u001b[0m                                 \u001b[1;32mbreak\u001b[0m\u001b[1;33m\u001b[0m\u001b[1;33m\u001b[0m\u001b[0m\n",
      "\u001b[1;31mKeyboardInterrupt\u001b[0m: "
     ]
    }
   ],
   "source": [
    "import pyodbc, os, urllib.request\n",
    "from PIL import Image\n",
    "from glob import glob\n",
    "from collections import defaultdict\n",
    "\n",
    "try:\n",
    "    uri = 'D:/Backup/Upload/'\n",
    "    path, dirs, files = next(os.walk(uri))\n",
    "    images = map(Image.open, glob('{}*.jpg'.format(uri)))\n",
    "    for i, image in enumerate(images):\n",
    "        colors = defaultdict(int)\n",
    "        for pixel in image.getdata():\n",
    "            colors[pixel] += 1        \n",
    "\n",
    "        if (len(colors) < 200):\n",
    "            cnxn = pyodbc.connect(\"Driver={SQL Server Native Client 11.0};Server=10.2.2.3;\"\n",
    "                                  \"Database=SAT;uid=sa;pwd=*sqlsat2009nochange*\")\n",
    "            cursor = cnxn.cursor()\n",
    "            q = \"insert into RatFotoSmartphoneInconsistente (NomeFoto) values ('{}')\".format(image.filename.replace(uri, ''))\n",
    "            cursor.execute(q)\n",
    "            cnxn.commit()\n",
    "        else:\n",
    "            print(u'Photo {}/{}: {} OK. {} colors.'.format(i, len(files), image.filename.replace(uri, ''), len(colors)))\n",
    "except Exception as ex:\n",
    "    print(ex)"
   ]
  },
  {
   "cell_type": "code",
   "execution_count": null,
   "metadata": {},
   "outputs": [],
   "source": []
  }
 ],
 "metadata": {
  "kernelspec": {
   "display_name": "Python 3",
   "language": "python",
   "name": "python3"
  }
 },
 "nbformat": 4,
 "nbformat_minor": 2
}
